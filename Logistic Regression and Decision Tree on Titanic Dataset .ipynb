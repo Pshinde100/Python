{
 "cells": [
  {
   "cell_type": "code",
   "execution_count": 1,
   "metadata": {},
   "outputs": [],
   "source": [
    "# import the libraries\n",
    "import pandas as pd\n",
    "from sklearn.model_selection import train_test_split\n",
    "from sklearn.tree import DecisionTreeClassifier as dtc\n",
    "from sklearn.feature_selection import RFE\n",
    "from sklearn.linear_model import LogisticRegression\n",
    "from sklearn.metrics import confusion_matrix\n",
    "from sklearn.metrics import classification_report as cr\n",
    "import statsmodels.api as sm\n",
    "import seaborn as sns\n",
    "import matplotlib.pyplot as plt\n",
    "# pip install pandas_ml\n",
    "from pandas_ml import ConfusionMatrix\n",
    "import numpy as np\n",
    "# from sklearn import cross_validation as cv\n",
    "from sklearn.model_selection import KFold \n",
    "from sklearn.metrics import accuracy_score\n",
    "from sklearn.externals.six import StringIO \n"
   ]
  },
  {
   "cell_type": "code",
   "execution_count": 2,
   "metadata": {},
   "outputs": [
    {
     "data": {
      "text/html": [
       "<div>\n",
       "<style scoped>\n",
       "    .dataframe tbody tr th:only-of-type {\n",
       "        vertical-align: middle;\n",
       "    }\n",
       "\n",
       "    .dataframe tbody tr th {\n",
       "        vertical-align: top;\n",
       "    }\n",
       "\n",
       "    .dataframe thead th {\n",
       "        text-align: right;\n",
       "    }\n",
       "</style>\n",
       "<table border=\"1\" class=\"dataframe\">\n",
       "  <thead>\n",
       "    <tr style=\"text-align: right;\">\n",
       "      <th></th>\n",
       "      <th>PassengerId</th>\n",
       "      <th>Survived</th>\n",
       "      <th>Pclass</th>\n",
       "      <th>Name</th>\n",
       "      <th>Sex</th>\n",
       "      <th>Age</th>\n",
       "      <th>SibSp</th>\n",
       "      <th>Parch</th>\n",
       "      <th>Ticket</th>\n",
       "      <th>Fare</th>\n",
       "      <th>Cabin</th>\n",
       "      <th>Embarked</th>\n",
       "    </tr>\n",
       "  </thead>\n",
       "  <tbody>\n",
       "    <tr>\n",
       "      <th>0</th>\n",
       "      <td>1</td>\n",
       "      <td>0</td>\n",
       "      <td>3</td>\n",
       "      <td>Braund, Mr. Owen Harris</td>\n",
       "      <td>male</td>\n",
       "      <td>22.0</td>\n",
       "      <td>1</td>\n",
       "      <td>0</td>\n",
       "      <td>A/5 21171</td>\n",
       "      <td>7.2500</td>\n",
       "      <td>NaN</td>\n",
       "      <td>S</td>\n",
       "    </tr>\n",
       "    <tr>\n",
       "      <th>1</th>\n",
       "      <td>2</td>\n",
       "      <td>1</td>\n",
       "      <td>1</td>\n",
       "      <td>Cumings, Mrs. John Bradley (Florence Briggs Th...</td>\n",
       "      <td>female</td>\n",
       "      <td>38.0</td>\n",
       "      <td>1</td>\n",
       "      <td>0</td>\n",
       "      <td>PC 17599</td>\n",
       "      <td>71.2833</td>\n",
       "      <td>C85</td>\n",
       "      <td>C</td>\n",
       "    </tr>\n",
       "    <tr>\n",
       "      <th>2</th>\n",
       "      <td>3</td>\n",
       "      <td>1</td>\n",
       "      <td>3</td>\n",
       "      <td>Heikkinen, Miss. Laina</td>\n",
       "      <td>female</td>\n",
       "      <td>26.0</td>\n",
       "      <td>0</td>\n",
       "      <td>0</td>\n",
       "      <td>STON/O2. 3101282</td>\n",
       "      <td>7.9250</td>\n",
       "      <td>NaN</td>\n",
       "      <td>S</td>\n",
       "    </tr>\n",
       "    <tr>\n",
       "      <th>3</th>\n",
       "      <td>4</td>\n",
       "      <td>1</td>\n",
       "      <td>1</td>\n",
       "      <td>Futrelle, Mrs. Jacques Heath (Lily May Peel)</td>\n",
       "      <td>female</td>\n",
       "      <td>35.0</td>\n",
       "      <td>1</td>\n",
       "      <td>0</td>\n",
       "      <td>113803</td>\n",
       "      <td>53.1000</td>\n",
       "      <td>C123</td>\n",
       "      <td>S</td>\n",
       "    </tr>\n",
       "    <tr>\n",
       "      <th>4</th>\n",
       "      <td>5</td>\n",
       "      <td>0</td>\n",
       "      <td>3</td>\n",
       "      <td>Allen, Mr. William Henry</td>\n",
       "      <td>male</td>\n",
       "      <td>35.0</td>\n",
       "      <td>0</td>\n",
       "      <td>0</td>\n",
       "      <td>373450</td>\n",
       "      <td>8.0500</td>\n",
       "      <td>NaN</td>\n",
       "      <td>S</td>\n",
       "    </tr>\n",
       "  </tbody>\n",
       "</table>\n",
       "</div>"
      ],
      "text/plain": [
       "   PassengerId  Survived  Pclass  \\\n",
       "0            1         0       3   \n",
       "1            2         1       1   \n",
       "2            3         1       3   \n",
       "3            4         1       1   \n",
       "4            5         0       3   \n",
       "\n",
       "                                                Name     Sex   Age  SibSp  \\\n",
       "0                            Braund, Mr. Owen Harris    male  22.0      1   \n",
       "1  Cumings, Mrs. John Bradley (Florence Briggs Th...  female  38.0      1   \n",
       "2                             Heikkinen, Miss. Laina  female  26.0      0   \n",
       "3       Futrelle, Mrs. Jacques Heath (Lily May Peel)  female  35.0      1   \n",
       "4                           Allen, Mr. William Henry    male  35.0      0   \n",
       "\n",
       "   Parch            Ticket     Fare Cabin Embarked  \n",
       "0      0         A/5 21171   7.2500   NaN        S  \n",
       "1      0          PC 17599  71.2833   C85        C  \n",
       "2      0  STON/O2. 3101282   7.9250   NaN        S  \n",
       "3      0            113803  53.1000  C123        S  \n",
       "4      0            373450   8.0500   NaN        S  "
      ]
     },
     "execution_count": 2,
     "metadata": {},
     "output_type": "execute_result"
    }
   ],
   "source": [
    "path=\"D:\\\\Imarticus\\\\Python\\\\titanic.csv\"\n",
    "titanic = pd.read_csv(path)\n",
    "titanic.head(5)\n"
   ]
  },
  {
   "cell_type": "code",
   "execution_count": 5,
   "metadata": {},
   "outputs": [
    {
     "name": "stdout",
     "output_type": "stream",
     "text": [
      "['PassengerId', 'Survived', 'Pclass', 'Name', 'Sex', 'Age', 'SibSp', 'Parch', 'Ticket', 'Fare', 'Cabin', 'Embarked']\n"
     ]
    },
    {
     "data": {
      "text/plain": [
       "(891, 12)"
      ]
     },
     "execution_count": 5,
     "metadata": {},
     "output_type": "execute_result"
    }
   ],
   "source": [
    " #print the columns\n",
    "# --------------------------------------\n",
    "col = list(titanic.columns)\n",
    "print(col)\n",
    "\n",
    "# count of Rows and Columns \n",
    "# -----------------------------\n",
    "titanic.shape\n"
   ]
  },
  {
   "cell_type": "code",
   "execution_count": 6,
   "metadata": {},
   "outputs": [
    {
     "data": {
      "text/html": [
       "<div>\n",
       "<style scoped>\n",
       "    .dataframe tbody tr th:only-of-type {\n",
       "        vertical-align: middle;\n",
       "    }\n",
       "\n",
       "    .dataframe tbody tr th {\n",
       "        vertical-align: top;\n",
       "    }\n",
       "\n",
       "    .dataframe thead th {\n",
       "        text-align: right;\n",
       "    }\n",
       "</style>\n",
       "<table border=\"1\" class=\"dataframe\">\n",
       "  <thead>\n",
       "    <tr style=\"text-align: right;\">\n",
       "      <th></th>\n",
       "      <th>PassengerId</th>\n",
       "      <th>Survived</th>\n",
       "      <th>Pclass</th>\n",
       "      <th>Name</th>\n",
       "      <th>Sex</th>\n",
       "      <th>Age</th>\n",
       "      <th>SibSp</th>\n",
       "      <th>Parch</th>\n",
       "      <th>Ticket</th>\n",
       "      <th>Fare</th>\n",
       "      <th>Cabin</th>\n",
       "      <th>Embarked</th>\n",
       "    </tr>\n",
       "  </thead>\n",
       "  <tbody>\n",
       "    <tr>\n",
       "      <th>0</th>\n",
       "      <td>1</td>\n",
       "      <td>0</td>\n",
       "      <td>3</td>\n",
       "      <td>Braund, Mr. Owen Harris</td>\n",
       "      <td>male</td>\n",
       "      <td>22.0</td>\n",
       "      <td>1</td>\n",
       "      <td>0</td>\n",
       "      <td>A/5 21171</td>\n",
       "      <td>7.2500</td>\n",
       "      <td>NaN</td>\n",
       "      <td>S</td>\n",
       "    </tr>\n",
       "    <tr>\n",
       "      <th>1</th>\n",
       "      <td>2</td>\n",
       "      <td>1</td>\n",
       "      <td>1</td>\n",
       "      <td>Cumings, Mrs. John Bradley (Florence Briggs Th...</td>\n",
       "      <td>female</td>\n",
       "      <td>38.0</td>\n",
       "      <td>1</td>\n",
       "      <td>0</td>\n",
       "      <td>PC 17599</td>\n",
       "      <td>71.2833</td>\n",
       "      <td>C85</td>\n",
       "      <td>C</td>\n",
       "    </tr>\n",
       "    <tr>\n",
       "      <th>2</th>\n",
       "      <td>3</td>\n",
       "      <td>1</td>\n",
       "      <td>3</td>\n",
       "      <td>Heikkinen, Miss. Laina</td>\n",
       "      <td>female</td>\n",
       "      <td>26.0</td>\n",
       "      <td>0</td>\n",
       "      <td>0</td>\n",
       "      <td>STON/O2. 3101282</td>\n",
       "      <td>7.9250</td>\n",
       "      <td>NaN</td>\n",
       "      <td>S</td>\n",
       "    </tr>\n",
       "    <tr>\n",
       "      <th>3</th>\n",
       "      <td>4</td>\n",
       "      <td>1</td>\n",
       "      <td>1</td>\n",
       "      <td>Futrelle, Mrs. Jacques Heath (Lily May Peel)</td>\n",
       "      <td>female</td>\n",
       "      <td>35.0</td>\n",
       "      <td>1</td>\n",
       "      <td>0</td>\n",
       "      <td>113803</td>\n",
       "      <td>53.1000</td>\n",
       "      <td>C123</td>\n",
       "      <td>S</td>\n",
       "    </tr>\n",
       "    <tr>\n",
       "      <th>4</th>\n",
       "      <td>5</td>\n",
       "      <td>0</td>\n",
       "      <td>3</td>\n",
       "      <td>Allen, Mr. William Henry</td>\n",
       "      <td>male</td>\n",
       "      <td>35.0</td>\n",
       "      <td>0</td>\n",
       "      <td>0</td>\n",
       "      <td>373450</td>\n",
       "      <td>8.0500</td>\n",
       "      <td>NaN</td>\n",
       "      <td>S</td>\n",
       "    </tr>\n",
       "  </tbody>\n",
       "</table>\n",
       "</div>"
      ],
      "text/plain": [
       "   PassengerId  Survived  Pclass  \\\n",
       "0            1         0       3   \n",
       "1            2         1       1   \n",
       "2            3         1       3   \n",
       "3            4         1       1   \n",
       "4            5         0       3   \n",
       "\n",
       "                                                Name     Sex   Age  SibSp  \\\n",
       "0                            Braund, Mr. Owen Harris    male  22.0      1   \n",
       "1  Cumings, Mrs. John Bradley (Florence Briggs Th...  female  38.0      1   \n",
       "2                             Heikkinen, Miss. Laina  female  26.0      0   \n",
       "3       Futrelle, Mrs. Jacques Heath (Lily May Peel)  female  35.0      1   \n",
       "4                           Allen, Mr. William Henry    male  35.0      0   \n",
       "\n",
       "   Parch            Ticket     Fare Cabin Embarked  \n",
       "0      0         A/5 21171   7.2500   NaN        S  \n",
       "1      0          PC 17599  71.2833   C85        C  \n",
       "2      0  STON/O2. 3101282   7.9250   NaN        S  \n",
       "3      0            113803  53.1000  C123        S  \n",
       "4      0            373450   8.0500   NaN        S  "
      ]
     },
     "execution_count": 6,
     "metadata": {},
     "output_type": "execute_result"
    }
   ],
   "source": [
    "# total number of rows\n",
    "# --------------------------------------\n",
    "len(titanic.index)\n",
    "\n",
    "# print the records for view\n",
    "# --------------------------------------\n",
    "titanic.head()\n"
   ]
  },
  {
   "cell_type": "code",
   "execution_count": 7,
   "metadata": {},
   "outputs": [
    {
     "data": {
      "text/plain": [
       "PassengerId      0\n",
       "Survived         0\n",
       "Pclass           0\n",
       "Name             0\n",
       "Sex              0\n",
       "Age            177\n",
       "SibSp            0\n",
       "Parch            0\n",
       "Ticket           0\n",
       "Fare             0\n",
       "Cabin          687\n",
       "Embarked         2\n",
       "dtype: int64"
      ]
     },
     "execution_count": 7,
     "metadata": {},
     "output_type": "execute_result"
    }
   ],
   "source": [
    "titanic.dtypes\n",
    "titanic.isnull().sum()\n"
   ]
  },
  {
   "cell_type": "code",
   "execution_count": 8,
   "metadata": {},
   "outputs": [],
   "source": [
    "# Romoving unwanted columns\n",
    "       \n",
    "titanic = titanic.drop('Name', axis = 1)\n",
    "titanic = titanic.drop('Cabin', axis = 1)\n",
    "titanic = titanic.drop('Ticket', axis = 1)\n",
    "titanic = titanic.drop('PassengerId', axis = 1)\n"
   ]
  },
  {
   "cell_type": "code",
   "execution_count": 9,
   "metadata": {},
   "outputs": [
    {
     "name": "stdout",
     "output_type": "stream",
     "text": [
      "0    608\n",
      "1    209\n",
      "2     28\n",
      "4     18\n",
      "3     16\n",
      "8      7\n",
      "5      5\n",
      "Name: SibSp, dtype: int64\n",
      "0    678\n",
      "1    118\n",
      "2     80\n",
      "5      5\n",
      "3      5\n",
      "4      4\n",
      "6      1\n",
      "Name: Parch, dtype: int64\n",
      "S    644\n",
      "C    168\n",
      "Q     77\n",
      "Name: Embarked, dtype: int64\n"
     ]
    }
   ],
   "source": [
    "titanic.head()\n",
    "\n",
    "print(titanic.SibSp.value_counts())\n",
    "print(titanic.Parch.value_counts())\n",
    "print(titanic.Embarked.value_counts())"
   ]
  },
  {
   "cell_type": "code",
   "execution_count": 10,
   "metadata": {},
   "outputs": [
    {
     "name": "stderr",
     "output_type": "stream",
     "text": [
      "C:\\Users\\Pranit\\Anaconda3\\lib\\site-packages\\ipykernel_launcher.py:8: SettingWithCopyWarning: \n",
      "A value is trying to be set on a copy of a slice from a DataFrame\n",
      "\n",
      "See the caveats in the documentation: http://pandas.pydata.org/pandas-docs/stable/indexing.html#indexing-view-versus-copy\n",
      "  \n",
      "C:\\Users\\Pranit\\Anaconda3\\lib\\site-packages\\ipykernel_launcher.py:9: SettingWithCopyWarning: \n",
      "A value is trying to be set on a copy of a slice from a DataFrame\n",
      "\n",
      "See the caveats in the documentation: http://pandas.pydata.org/pandas-docs/stable/indexing.html#indexing-view-versus-copy\n",
      "  if __name__ == '__main__':\n"
     ]
    },
    {
     "data": {
      "text/html": [
       "<div>\n",
       "<style scoped>\n",
       "    .dataframe tbody tr th:only-of-type {\n",
       "        vertical-align: middle;\n",
       "    }\n",
       "\n",
       "    .dataframe tbody tr th {\n",
       "        vertical-align: top;\n",
       "    }\n",
       "\n",
       "    .dataframe thead th {\n",
       "        text-align: right;\n",
       "    }\n",
       "</style>\n",
       "<table border=\"1\" class=\"dataframe\">\n",
       "  <thead>\n",
       "    <tr style=\"text-align: right;\">\n",
       "      <th></th>\n",
       "      <th>Survived</th>\n",
       "      <th>Pclass</th>\n",
       "      <th>Sex</th>\n",
       "      <th>Age</th>\n",
       "      <th>SibSp</th>\n",
       "      <th>Parch</th>\n",
       "      <th>Fare</th>\n",
       "      <th>Embarked</th>\n",
       "      <th>Gender</th>\n",
       "    </tr>\n",
       "  </thead>\n",
       "  <tbody>\n",
       "    <tr>\n",
       "      <th>0</th>\n",
       "      <td>0</td>\n",
       "      <td>3</td>\n",
       "      <td>male</td>\n",
       "      <td>22.0</td>\n",
       "      <td>1</td>\n",
       "      <td>0</td>\n",
       "      <td>7.2500</td>\n",
       "      <td>S</td>\n",
       "      <td>1</td>\n",
       "    </tr>\n",
       "    <tr>\n",
       "      <th>1</th>\n",
       "      <td>1</td>\n",
       "      <td>1</td>\n",
       "      <td>female</td>\n",
       "      <td>38.0</td>\n",
       "      <td>1</td>\n",
       "      <td>0</td>\n",
       "      <td>71.2833</td>\n",
       "      <td>C</td>\n",
       "      <td>0</td>\n",
       "    </tr>\n",
       "    <tr>\n",
       "      <th>2</th>\n",
       "      <td>1</td>\n",
       "      <td>3</td>\n",
       "      <td>female</td>\n",
       "      <td>26.0</td>\n",
       "      <td>0</td>\n",
       "      <td>0</td>\n",
       "      <td>7.9250</td>\n",
       "      <td>S</td>\n",
       "      <td>0</td>\n",
       "    </tr>\n",
       "    <tr>\n",
       "      <th>3</th>\n",
       "      <td>1</td>\n",
       "      <td>1</td>\n",
       "      <td>female</td>\n",
       "      <td>35.0</td>\n",
       "      <td>1</td>\n",
       "      <td>0</td>\n",
       "      <td>53.1000</td>\n",
       "      <td>S</td>\n",
       "      <td>0</td>\n",
       "    </tr>\n",
       "    <tr>\n",
       "      <th>4</th>\n",
       "      <td>0</td>\n",
       "      <td>3</td>\n",
       "      <td>male</td>\n",
       "      <td>35.0</td>\n",
       "      <td>0</td>\n",
       "      <td>0</td>\n",
       "      <td>8.0500</td>\n",
       "      <td>S</td>\n",
       "      <td>1</td>\n",
       "    </tr>\n",
       "  </tbody>\n",
       "</table>\n",
       "</div>"
      ],
      "text/plain": [
       "   Survived  Pclass     Sex   Age  SibSp  Parch     Fare Embarked  Gender\n",
       "0         0       3    male  22.0      1      0   7.2500        S       1\n",
       "1         1       1  female  38.0      1      0  71.2833        C       0\n",
       "2         1       3  female  26.0      0      0   7.9250        S       0\n",
       "3         1       1  female  35.0      1      0  53.1000        S       0\n",
       "4         0       3    male  35.0      0      0   8.0500        S       1"
      ]
     },
     "execution_count": 10,
     "metadata": {},
     "output_type": "execute_result"
    }
   ],
   "source": [
    "# need the Y-variable to be Numeric (0 and 1) for Logistic Regression\n",
    "# steps:\n",
    "# 1) create a new Y-variable and initialise with 0/1 appropriately\n",
    "# 2) delete the old Y value \n",
    "# -----------------------------------------------------------------\n",
    "\n",
    "titanic['Gender'] = 0\n",
    "titanic.Gender[titanic.Sex == \"male\"] = 1\n",
    "titanic.Gender[titanic.Sex == \"female\"] = 0\n",
    "\n",
    "titanic.head()"
   ]
  },
  {
   "cell_type": "code",
   "execution_count": 11,
   "metadata": {},
   "outputs": [],
   "source": [
    "titanic = titanic.drop('Sex',axis=1)"
   ]
  },
  {
   "cell_type": "code",
   "execution_count": 13,
   "metadata": {},
   "outputs": [
    {
     "data": {
      "text/html": [
       "<div>\n",
       "<style scoped>\n",
       "    .dataframe tbody tr th:only-of-type {\n",
       "        vertical-align: middle;\n",
       "    }\n",
       "\n",
       "    .dataframe tbody tr th {\n",
       "        vertical-align: top;\n",
       "    }\n",
       "\n",
       "    .dataframe thead th {\n",
       "        text-align: right;\n",
       "    }\n",
       "</style>\n",
       "<table border=\"1\" class=\"dataframe\">\n",
       "  <thead>\n",
       "    <tr style=\"text-align: right;\">\n",
       "      <th></th>\n",
       "      <th>Survived</th>\n",
       "      <th>Pclass</th>\n",
       "      <th>Age</th>\n",
       "      <th>SibSp</th>\n",
       "      <th>Parch</th>\n",
       "      <th>Fare</th>\n",
       "      <th>Embarked</th>\n",
       "      <th>Gender</th>\n",
       "    </tr>\n",
       "  </thead>\n",
       "  <tbody>\n",
       "    <tr>\n",
       "      <th>0</th>\n",
       "      <td>0</td>\n",
       "      <td>3</td>\n",
       "      <td>22.0</td>\n",
       "      <td>1</td>\n",
       "      <td>0</td>\n",
       "      <td>7.2500</td>\n",
       "      <td>S</td>\n",
       "      <td>1</td>\n",
       "    </tr>\n",
       "    <tr>\n",
       "      <th>1</th>\n",
       "      <td>1</td>\n",
       "      <td>1</td>\n",
       "      <td>38.0</td>\n",
       "      <td>1</td>\n",
       "      <td>0</td>\n",
       "      <td>71.2833</td>\n",
       "      <td>C</td>\n",
       "      <td>0</td>\n",
       "    </tr>\n",
       "    <tr>\n",
       "      <th>2</th>\n",
       "      <td>1</td>\n",
       "      <td>3</td>\n",
       "      <td>26.0</td>\n",
       "      <td>0</td>\n",
       "      <td>0</td>\n",
       "      <td>7.9250</td>\n",
       "      <td>S</td>\n",
       "      <td>0</td>\n",
       "    </tr>\n",
       "    <tr>\n",
       "      <th>3</th>\n",
       "      <td>1</td>\n",
       "      <td>1</td>\n",
       "      <td>35.0</td>\n",
       "      <td>1</td>\n",
       "      <td>0</td>\n",
       "      <td>53.1000</td>\n",
       "      <td>S</td>\n",
       "      <td>0</td>\n",
       "    </tr>\n",
       "    <tr>\n",
       "      <th>4</th>\n",
       "      <td>0</td>\n",
       "      <td>3</td>\n",
       "      <td>35.0</td>\n",
       "      <td>0</td>\n",
       "      <td>0</td>\n",
       "      <td>8.0500</td>\n",
       "      <td>S</td>\n",
       "      <td>1</td>\n",
       "    </tr>\n",
       "  </tbody>\n",
       "</table>\n",
       "</div>"
      ],
      "text/plain": [
       "   Survived  Pclass   Age  SibSp  Parch     Fare Embarked  Gender\n",
       "0         0       3  22.0      1      0   7.2500        S       1\n",
       "1         1       1  38.0      1      0  71.2833        C       0\n",
       "2         1       3  26.0      0      0   7.9250        S       0\n",
       "3         1       1  35.0      1      0  53.1000        S       0\n",
       "4         0       3  35.0      0      0   8.0500        S       1"
      ]
     },
     "execution_count": 13,
     "metadata": {},
     "output_type": "execute_result"
    }
   ],
   "source": [
    "titanic.head()"
   ]
  },
  {
   "cell_type": "code",
   "execution_count": 14,
   "metadata": {},
   "outputs": [
    {
     "data": {
      "text/plain": [
       "0    0.616162\n",
       "1    0.383838\n",
       "Name: Survived, dtype: float64"
      ]
     },
     "execution_count": 14,
     "metadata": {},
     "output_type": "execute_result"
    }
   ],
   "source": [
    "# get the count of \"YES\" (1) and \"NO\" (0)\n",
    "# --------------------------------------\n",
    "titanic['Survived'].value_counts()\n",
    "titanic['Survived'].value_counts()/len(titanic)"
   ]
  },
  {
   "cell_type": "code",
   "execution_count": 15,
   "metadata": {},
   "outputs": [
    {
     "data": {
      "text/plain": [
       "<matplotlib.axes._subplots.AxesSubplot at 0x246d53effd0>"
      ]
     },
     "execution_count": 15,
     "metadata": {},
     "output_type": "execute_result"
    },
    {
     "data": {
      "image/png": "[encoded data removed]",
      "text/plain": [
       "<Figure size 432x288 with 1 Axes>"
      ]
     },
     "metadata": {
      "needs_background": "light"
     },
     "output_type": "display_data"
    }
   ],
   "source": [
    "# plot the \"Yes\" and \"No\"\n",
    "# --------------------------------------\n",
    "sns.countplot(x='Survived', data=titanic, palette='hls')\n"
   ]
  },
  {
   "cell_type": "code",
   "execution_count": 16,
   "metadata": {},
   "outputs": [
    {
     "data": {
      "text/html": [
       "<div>\n",
       "<style scoped>\n",
       "    .dataframe tbody tr th:only-of-type {\n",
       "        vertical-align: middle;\n",
       "    }\n",
       "\n",
       "    .dataframe tbody tr th {\n",
       "        vertical-align: top;\n",
       "    }\n",
       "\n",
       "    .dataframe thead th {\n",
       "        text-align: right;\n",
       "    }\n",
       "</style>\n",
       "<table border=\"1\" class=\"dataframe\">\n",
       "  <thead>\n",
       "    <tr style=\"text-align: right;\">\n",
       "      <th></th>\n",
       "      <th>C</th>\n",
       "      <th>Q</th>\n",
       "      <th>S</th>\n",
       "    </tr>\n",
       "  </thead>\n",
       "  <tbody>\n",
       "    <tr>\n",
       "      <th>0</th>\n",
       "      <td>0</td>\n",
       "      <td>0</td>\n",
       "      <td>1</td>\n",
       "    </tr>\n",
       "    <tr>\n",
       "      <th>1</th>\n",
       "      <td>1</td>\n",
       "      <td>0</td>\n",
       "      <td>0</td>\n",
       "    </tr>\n",
       "    <tr>\n",
       "      <th>2</th>\n",
       "      <td>0</td>\n",
       "      <td>0</td>\n",
       "      <td>1</td>\n",
       "    </tr>\n",
       "    <tr>\n",
       "      <th>3</th>\n",
       "      <td>0</td>\n",
       "      <td>0</td>\n",
       "      <td>1</td>\n",
       "    </tr>\n",
       "    <tr>\n",
       "      <th>4</th>\n",
       "      <td>0</td>\n",
       "      <td>0</td>\n",
       "      <td>1</td>\n",
       "    </tr>\n",
       "    <tr>\n",
       "      <th>6</th>\n",
       "      <td>0</td>\n",
       "      <td>0</td>\n",
       "      <td>1</td>\n",
       "    </tr>\n",
       "    <tr>\n",
       "      <th>7</th>\n",
       "      <td>0</td>\n",
       "      <td>0</td>\n",
       "      <td>1</td>\n",
       "    </tr>\n",
       "    <tr>\n",
       "      <th>8</th>\n",
       "      <td>0</td>\n",
       "      <td>0</td>\n",
       "      <td>1</td>\n",
       "    </tr>\n",
       "    <tr>\n",
       "      <th>9</th>\n",
       "      <td>1</td>\n",
       "      <td>0</td>\n",
       "      <td>0</td>\n",
       "    </tr>\n",
       "    <tr>\n",
       "      <th>10</th>\n",
       "      <td>0</td>\n",
       "      <td>0</td>\n",
       "      <td>1</td>\n",
       "    </tr>\n",
       "    <tr>\n",
       "      <th>11</th>\n",
       "      <td>0</td>\n",
       "      <td>0</td>\n",
       "      <td>1</td>\n",
       "    </tr>\n",
       "    <tr>\n",
       "      <th>12</th>\n",
       "      <td>0</td>\n",
       "      <td>0</td>\n",
       "      <td>1</td>\n",
       "    </tr>\n",
       "    <tr>\n",
       "      <th>13</th>\n",
       "      <td>0</td>\n",
       "      <td>0</td>\n",
       "      <td>1</td>\n",
       "    </tr>\n",
       "    <tr>\n",
       "      <th>14</th>\n",
       "      <td>0</td>\n",
       "      <td>0</td>\n",
       "      <td>1</td>\n",
       "    </tr>\n",
       "    <tr>\n",
       "      <th>15</th>\n",
       "      <td>0</td>\n",
       "      <td>0</td>\n",
       "      <td>1</td>\n",
       "    </tr>\n",
       "    <tr>\n",
       "      <th>16</th>\n",
       "      <td>0</td>\n",
       "      <td>1</td>\n",
       "      <td>0</td>\n",
       "    </tr>\n",
       "    <tr>\n",
       "      <th>18</th>\n",
       "      <td>0</td>\n",
       "      <td>0</td>\n",
       "      <td>1</td>\n",
       "    </tr>\n",
       "    <tr>\n",
       "      <th>20</th>\n",
       "      <td>0</td>\n",
       "      <td>0</td>\n",
       "      <td>1</td>\n",
       "    </tr>\n",
       "    <tr>\n",
       "      <th>21</th>\n",
       "      <td>0</td>\n",
       "      <td>0</td>\n",
       "      <td>1</td>\n",
       "    </tr>\n",
       "    <tr>\n",
       "      <th>22</th>\n",
       "      <td>0</td>\n",
       "      <td>1</td>\n",
       "      <td>0</td>\n",
       "    </tr>\n",
       "  </tbody>\n",
       "</table>\n",
       "</div>"
      ],
      "text/plain": [
       "    C  Q  S\n",
       "0   0  0  1\n",
       "1   1  0  0\n",
       "2   0  0  1\n",
       "3   0  0  1\n",
       "4   0  0  1\n",
       "6   0  0  1\n",
       "7   0  0  1\n",
       "8   0  0  1\n",
       "9   1  0  0\n",
       "10  0  0  1\n",
       "11  0  0  1\n",
       "12  0  0  1\n",
       "13  0  0  1\n",
       "14  0  0  1\n",
       "15  0  0  1\n",
       "16  0  1  0\n",
       "18  0  0  1\n",
       "20  0  0  1\n",
       "21  0  0  1\n",
       "22  0  1  0"
      ]
     },
     "execution_count": 16,
     "metadata": {},
     "output_type": "execute_result"
    }
   ],
   "source": [
    "titanic.Embarked.unique()\n",
    "titanic = titanic.dropna(subset = ['Embarked'])\n",
    "titanic = titanic.dropna(subset = ['Age'])\n",
    "\n",
    "pd.get_dummies(titanic.Embarked,drop_first=True).tail(20)\n",
    "pd.get_dummies(titanic.Embarked,drop_first=False).head(20)\n"
   ]
  },
  {
   "cell_type": "code",
   "execution_count": 17,
   "metadata": {},
   "outputs": [
    {
     "name": "stdout",
     "output_type": "stream",
     "text": [
      "['Embarked']\n"
     ]
    }
   ],
   "source": [
    "# create the dummy variables\n",
    "# for every column having more than 1 value, \n",
    "# create dummy variables\n",
    "# this is done since there are characters in the factor variables\n",
    "# ---------------------------------------------------------------\n",
    "\n",
    "\n",
    "\n",
    "new_titanic = titanic.copy()\n",
    "titanic.head()\n",
    "\n",
    "# Get all the factor X-variables\n",
    "\n",
    "factor_x = titanic.select_dtypes(exclude=[\"int64\",\"float64\",\"category\"]).columns.values\n",
    "print(factor_x)"
   ]
  },
  {
   "cell_type": "code",
   "execution_count": 18,
   "metadata": {},
   "outputs": [
    {
     "data": {
      "text/plain": [
       "Survived       int64\n",
       "Pclass         int64\n",
       "Age          float64\n",
       "SibSp          int64\n",
       "Parch          int64\n",
       "Fare         float64\n",
       "Embarked    category\n",
       "Gender         int64\n",
       "dtype: object"
      ]
     },
     "execution_count": 18,
     "metadata": {},
     "output_type": "execute_result"
    }
   ],
   "source": [
    "# convert all X-categorical variables\n",
    "# ---------------------------------\n",
    "for c in factor_x:\n",
    "    titanic[c] = titanic[c].astype('category',copy=False)\n",
    "titanic.dtypes\n"
   ]
  },
  {
   "cell_type": "code",
   "execution_count": 19,
   "metadata": {},
   "outputs": [
    {
     "data": {
      "text/html": [
       "<div>\n",
       "<style scoped>\n",
       "    .dataframe tbody tr th:only-of-type {\n",
       "        vertical-align: middle;\n",
       "    }\n",
       "\n",
       "    .dataframe tbody tr th {\n",
       "        vertical-align: top;\n",
       "    }\n",
       "\n",
       "    .dataframe thead th {\n",
       "        text-align: right;\n",
       "    }\n",
       "</style>\n",
       "<table border=\"1\" class=\"dataframe\">\n",
       "  <thead>\n",
       "    <tr style=\"text-align: right;\">\n",
       "      <th></th>\n",
       "      <th>Survived</th>\n",
       "      <th>Pclass</th>\n",
       "      <th>Age</th>\n",
       "      <th>SibSp</th>\n",
       "      <th>Parch</th>\n",
       "      <th>Fare</th>\n",
       "      <th>Embarked</th>\n",
       "      <th>Gender</th>\n",
       "      <th>Embarked_Q</th>\n",
       "      <th>Embarked_S</th>\n",
       "    </tr>\n",
       "  </thead>\n",
       "  <tbody>\n",
       "    <tr>\n",
       "      <th>0</th>\n",
       "      <td>0</td>\n",
       "      <td>3</td>\n",
       "      <td>22.0</td>\n",
       "      <td>1</td>\n",
       "      <td>0</td>\n",
       "      <td>7.2500</td>\n",
       "      <td>S</td>\n",
       "      <td>1</td>\n",
       "      <td>0</td>\n",
       "      <td>1</td>\n",
       "    </tr>\n",
       "    <tr>\n",
       "      <th>1</th>\n",
       "      <td>1</td>\n",
       "      <td>1</td>\n",
       "      <td>38.0</td>\n",
       "      <td>1</td>\n",
       "      <td>0</td>\n",
       "      <td>71.2833</td>\n",
       "      <td>C</td>\n",
       "      <td>0</td>\n",
       "      <td>0</td>\n",
       "      <td>0</td>\n",
       "    </tr>\n",
       "    <tr>\n",
       "      <th>2</th>\n",
       "      <td>1</td>\n",
       "      <td>3</td>\n",
       "      <td>26.0</td>\n",
       "      <td>0</td>\n",
       "      <td>0</td>\n",
       "      <td>7.9250</td>\n",
       "      <td>S</td>\n",
       "      <td>0</td>\n",
       "      <td>0</td>\n",
       "      <td>1</td>\n",
       "    </tr>\n",
       "    <tr>\n",
       "      <th>3</th>\n",
       "      <td>1</td>\n",
       "      <td>1</td>\n",
       "      <td>35.0</td>\n",
       "      <td>1</td>\n",
       "      <td>0</td>\n",
       "      <td>53.1000</td>\n",
       "      <td>S</td>\n",
       "      <td>0</td>\n",
       "      <td>0</td>\n",
       "      <td>1</td>\n",
       "    </tr>\n",
       "    <tr>\n",
       "      <th>4</th>\n",
       "      <td>0</td>\n",
       "      <td>3</td>\n",
       "      <td>35.0</td>\n",
       "      <td>0</td>\n",
       "      <td>0</td>\n",
       "      <td>8.0500</td>\n",
       "      <td>S</td>\n",
       "      <td>1</td>\n",
       "      <td>0</td>\n",
       "      <td>1</td>\n",
       "    </tr>\n",
       "  </tbody>\n",
       "</table>\n",
       "</div>"
      ],
      "text/plain": [
       "   Survived  Pclass   Age  SibSp  Parch     Fare Embarked  Gender  Embarked_Q  \\\n",
       "0         0       3  22.0      1      0   7.2500        S       1           0   \n",
       "1         1       1  38.0      1      0  71.2833        C       0           0   \n",
       "2         1       3  26.0      0      0   7.9250        S       0           0   \n",
       "3         1       1  35.0      1      0  53.1000        S       0           0   \n",
       "4         0       3  35.0      0      0   8.0500        S       1           0   \n",
       "\n",
       "   Embarked_S  \n",
       "0           1  \n",
       "1           0  \n",
       "2           1  \n",
       "3           1  \n",
       "4           1  "
      ]
     },
     "execution_count": 19,
     "metadata": {},
     "output_type": "execute_result"
    }
   ],
   "source": [
    "# del cat_list\n",
    "\n",
    "for var in factor_x:\n",
    "    cat_list = pd.get_dummies(titanic[var], drop_first=True, prefix=var)\n",
    "    # data1=bank.join(cat_list)\n",
    "    new_titanic = new_titanic.join(cat_list)\n",
    "\n",
    "new_titanic.head()"
   ]
  },
  {
   "cell_type": "code",
   "execution_count": 20,
   "metadata": {},
   "outputs": [
    {
     "name": "stdout",
     "output_type": "stream",
     "text": [
      "Index(['Survived', 'Pclass', 'Age', 'SibSp', 'Parch', 'Fare', 'Embarked',\n",
      "       'Gender', 'Embarked_Q', 'Embarked_S'],\n",
      "      dtype='object')\n"
     ]
    },
    {
     "data": {
      "text/plain": [
       "10"
      ]
     },
     "execution_count": 20,
     "metadata": {},
     "output_type": "execute_result"
    }
   ],
   "source": [
    "# old+dummy columns\n",
    "new_col_set = new_titanic.columns\n",
    "print(new_col_set)\n",
    "len(new_col_set)"
   ]
  },
  {
   "cell_type": "code",
   "execution_count": 21,
   "metadata": {},
   "outputs": [
    {
     "data": {
      "text/plain": [
       "9"
      ]
     },
     "execution_count": 21,
     "metadata": {},
     "output_type": "execute_result"
    }
   ],
   "source": [
    "# data with new columns\n",
    "new_titanic.head()\n",
    "\n",
    "# get the difference of new and old columns\n",
    "to_keep = list(set(new_col_set).difference(set(factor_x)))\n",
    "to_keep\n",
    "to_keep.sort()\n",
    "to_keep\n",
    "len(to_keep)\n"
   ]
  },
  {
   "cell_type": "code",
   "execution_count": 22,
   "metadata": {},
   "outputs": [
    {
     "data": {
      "text/plain": [
       "9"
      ]
     },
     "execution_count": 22,
     "metadata": {},
     "output_type": "execute_result"
    }
   ],
   "source": [
    "# create the final dataset with the final columns set\n",
    "# ---------------------------------------------------\n",
    "titanic_final = new_titanic[to_keep]\n",
    "titanic_final.head()\n",
    "titanic_final.columns.sort_values()\n",
    "len(titanic_final.columns)\n"
   ]
  },
  {
   "cell_type": "code",
   "execution_count": 23,
   "metadata": {},
   "outputs": [
    {
     "data": {
      "text/plain": [
       "Index(['Survived', 'Age', 'Embarked_Q', 'Embarked_S', 'Fare', 'Gender',\n",
       "       'Parch', 'Pclass', 'SibSp'],\n",
       "      dtype='object')"
      ]
     },
     "execution_count": 23,
     "metadata": {},
     "output_type": "execute_result"
    }
   ],
   "source": [
    "# reordering the columns\n",
    "# ---------------------------------------------------\n",
    "titanic_final = pd.concat(\n",
    "        [titanic_final['Survived'], \n",
    "        titanic_final.drop('Survived',axis=1)],\n",
    "        axis=1)\n",
    "\n",
    "titanic_final.columns"
   ]
  },
  {
   "cell_type": "code",
   "execution_count": 24,
   "metadata": {},
   "outputs": [
    {
     "name": "stdout",
     "output_type": "stream",
     "text": [
      "(498, 9)\n",
      "(214, 9)\n"
     ]
    }
   ],
   "source": [
    "import random as r\n",
    "\n",
    "\n",
    "# split the dataset into train and test\n",
    "# ---------------------------------------------------\n",
    "train, test = train_test_split(titanic_final, test_size = 0.3)\n",
    "\n",
    "print(train.shape)\n",
    "print(test.shape)"
   ]
  },
  {
   "cell_type": "code",
   "execution_count": 25,
   "metadata": {},
   "outputs": [
    {
     "name": "stdout",
     "output_type": "stream",
     "text": [
      "9\n"
     ]
    }
   ],
   "source": [
    "total_cols = len(titanic_final.columns)\n",
    "print(total_cols)\n"
   ]
  },
  {
   "cell_type": "code",
   "execution_count": 26,
   "metadata": {},
   "outputs": [
    {
     "data": {
      "text/plain": [
       "214"
      ]
     },
     "execution_count": 26,
     "metadata": {},
     "output_type": "execute_result"
    }
   ],
   "source": [
    "# split the train and test into X and Y variables\n",
    "train_x = train.iloc[:,1:total_cols+1]\n",
    "train_y = train.iloc[:,0]\n",
    "\n",
    "train_x.iloc[0:5]\n",
    "\n",
    "test_x  = test.iloc[:,1:total_cols+1]\n",
    "test_y = test.iloc[:,0]\n",
    "len(train_x)\n",
    "len(test_x)\n"
   ]
  },
  {
   "cell_type": "code",
   "execution_count": 27,
   "metadata": {},
   "outputs": [
    {
     "name": "stdout",
     "output_type": "stream",
     "text": [
      "Optimization terminated successfully.\n",
      "         Current function value: 0.490382\n",
      "         Iterations 6\n"
     ]
    },
    {
     "data": {
      "text/html": [
       "<table class=\"simpletable\">\n",
       "<tr>\n",
       "        <td>Model:</td>              <td>Logit</td>      <td>Pseudo R-squared:</td>    <td>0.263</td>  \n",
       "</tr>\n",
       "<tr>\n",
       "  <td>Dependent Variable:</td>     <td>Survived</td>           <td>AIC:</td>         <td>504.4205</td> \n",
       "</tr>\n",
       "<tr>\n",
       "         <td>Date:</td>        <td>2019-02-20 20:17</td>       <td>BIC:</td>         <td>538.1053</td> \n",
       "</tr>\n",
       "<tr>\n",
       "   <td>No. Observations:</td>         <td>498</td>        <td>Log-Likelihood:</td>    <td>-244.21</td> \n",
       "</tr>\n",
       "<tr>\n",
       "       <td>Df Model:</td>              <td>7</td>            <td>LL-Null:</td>        <td>-331.55</td> \n",
       "</tr>\n",
       "<tr>\n",
       "     <td>Df Residuals:</td>           <td>490</td>         <td>LLR p-value:</td>    <td>2.5808e-34</td>\n",
       "</tr>\n",
       "<tr>\n",
       "      <td>Converged:</td>           <td>1.0000</td>           <td>Scale:</td>         <td>1.0000</td>  \n",
       "</tr>\n",
       "<tr>\n",
       "    <td>No. Iterations:</td>        <td>6.0000</td>              <td></td>               <td></td>     \n",
       "</tr>\n",
       "</table>\n",
       "<table class=\"simpletable\">\n",
       "<tr>\n",
       "       <td></td>       <th>Coef.</th>  <th>Std.Err.</th>    <th>z</th>     <th>P>|z|</th> <th>[0.025</th>  <th>0.975]</th> \n",
       "</tr>\n",
       "<tr>\n",
       "  <th>Age</th>        <td>0.0051</td>   <td>0.0074</td>  <td>0.6888</td>  <td>0.4909</td> <td>-0.0094</td> <td>0.0196</td> \n",
       "</tr>\n",
       "<tr>\n",
       "  <th>Embarked_Q</th> <td>-0.2978</td>  <td>0.7661</td>  <td>-0.3887</td> <td>0.6975</td> <td>-1.7992</td> <td>1.2036</td> \n",
       "</tr>\n",
       "<tr>\n",
       "  <th>Embarked_S</th> <td>0.2140</td>   <td>0.2985</td>  <td>0.7170</td>  <td>0.4734</td> <td>-0.3710</td> <td>0.7991</td> \n",
       "</tr>\n",
       "<tr>\n",
       "  <th>Fare</th>       <td>0.0160</td>   <td>0.0035</td>  <td>4.5566</td>  <td>0.0000</td> <td>0.0091</td>  <td>0.0228</td> \n",
       "</tr>\n",
       "<tr>\n",
       "  <th>Gender</th>     <td>-2.3675</td>  <td>0.2424</td>  <td>-9.7656</td> <td>0.0000</td> <td>-2.8427</td> <td>-1.8924</td>\n",
       "</tr>\n",
       "<tr>\n",
       "  <th>Parch</th>      <td>-0.2728</td>  <td>0.1502</td>  <td>-1.8167</td> <td>0.0693</td> <td>-0.5671</td> <td>0.0215</td> \n",
       "</tr>\n",
       "<tr>\n",
       "  <th>Pclass</th>     <td>0.0485</td>   <td>0.1160</td>  <td>0.4184</td>  <td>0.6756</td> <td>-0.1788</td> <td>0.2759</td> \n",
       "</tr>\n",
       "<tr>\n",
       "  <th>SibSp</th>      <td>-0.1128</td>  <td>0.1400</td>  <td>-0.8058</td> <td>0.4204</td> <td>-0.3873</td> <td>0.1616</td> \n",
       "</tr>\n",
       "</table>"
      ],
      "text/plain": [
       "<class 'statsmodels.iolib.summary2.Summary'>\n",
       "\"\"\"\n",
       "                         Results: Logit\n",
       "=================================================================\n",
       "Model:              Logit            Pseudo R-squared: 0.263     \n",
       "Dependent Variable: Survived         AIC:              504.4205  \n",
       "Date:               2019-02-20 20:17 BIC:              538.1053  \n",
       "No. Observations:   498              Log-Likelihood:   -244.21   \n",
       "Df Model:           7                LL-Null:          -331.55   \n",
       "Df Residuals:       490              LLR p-value:      2.5808e-34\n",
       "Converged:          1.0000           Scale:            1.0000    \n",
       "No. Iterations:     6.0000                                       \n",
       "------------------------------------------------------------------\n",
       "               Coef.   Std.Err.     z     P>|z|    [0.025   0.975]\n",
       "------------------------------------------------------------------\n",
       "Age            0.0051    0.0074   0.6888  0.4909  -0.0094   0.0196\n",
       "Embarked_Q    -0.2978    0.7661  -0.3887  0.6975  -1.7992   1.2036\n",
       "Embarked_S     0.2140    0.2985   0.7170  0.4734  -0.3710   0.7991\n",
       "Fare           0.0160    0.0035   4.5566  0.0000   0.0091   0.0228\n",
       "Gender        -2.3675    0.2424  -9.7656  0.0000  -2.8427  -1.8924\n",
       "Parch         -0.2728    0.1502  -1.8167  0.0693  -0.5671   0.0215\n",
       "Pclass         0.0485    0.1160   0.4184  0.6756  -0.1788   0.2759\n",
       "SibSp         -0.1128    0.1400  -0.8058  0.4204  -0.3873   0.1616\n",
       "=================================================================\n",
       "\n",
       "\"\"\""
      ]
     },
     "execution_count": 27,
     "metadata": {},
     "output_type": "execute_result"
    }
   ],
   "source": [
    "# build the base model with all columns\n",
    "# -------------------------------------\n",
    "\n",
    "# build the logistic regression model\n",
    "\n",
    "logit_model = sm.Logit(train_y, train_x)\n",
    "logit_result = logit_model.fit()\n",
    "logit_result.summary2()\n"
   ]
  },
  {
   "cell_type": "code",
   "execution_count": 28,
   "metadata": {},
   "outputs": [
    {
     "name": "stdout",
     "output_type": "stream",
     "text": [
      "KFold(n_splits=5, random_state=None, shuffle=False)\n",
      "Optimization terminated successfully.\n",
      "         Current function value: 0.497329\n",
      "         Iterations 6\n",
      "Fold=1,Accuracy=80.0\n",
      "Optimization terminated successfully.\n",
      "         Current function value: 0.501479\n",
      "         Iterations 6\n",
      "Fold=2,Accuracy=79.0\n",
      "Optimization terminated successfully.\n",
      "         Current function value: 0.484335\n",
      "         Iterations 6\n",
      "Fold=3,Accuracy=76.0\n",
      "Optimization terminated successfully.\n",
      "         Current function value: 0.477763\n",
      "         Iterations 7\n",
      "Fold=4,Accuracy=75.75757575757575\n",
      "Optimization terminated successfully.\n",
      "         Current function value: 0.482505\n",
      "         Iterations 6\n",
      "Fold=5,Accuracy=73.73737373737373\n"
     ]
    }
   ],
   "source": [
    "# cross-validation\n",
    "# ----------------\n",
    "# number of folds\n",
    "kf = KFold(n_splits=5) \n",
    "kf.get_n_splits(train_x)\n",
    "print(kf)\n",
    "\n",
    "fold = 1\n",
    "# split the training further into train and test\n",
    "for train_index, test_index in kf.split(train_x):\n",
    "    \n",
    "    cv_train_x = train_x.iloc[train_index,]\n",
    "    cv_train_y = train_y.iloc[train_index,]\n",
    "    \n",
    "    cv_test_x = train_x.iloc[test_index,]\n",
    "    cv_test_y = train_y.iloc[test_index,]\n",
    "    \n",
    "    # build the model on the CV training data and predict on CV testing data\n",
    "    cv_logit_model = sm.Logit(cv_train_y, cv_train_x).fit()\n",
    "    cv_pdct = list(cv_logit_model.predict(cv_test_x))\n",
    "\n",
    "    # set the default cut-off to 0.5\n",
    "    # and set predictions to 0 and 1\n",
    "    cv_length = len(cv_pdct)\n",
    "    cv_results=list(cv_pdct).copy()\n",
    "        \n",
    "    for i in range(0,cv_length):\n",
    "        if cv_pdct[i] <= 0.5:\n",
    "            cv_results[i] = 0\n",
    "        else:\n",
    "            cv_results[i] = 1\n",
    "    \n",
    "    # accuracy score\n",
    "    acc_score = accuracy_score(cv_test_y,cv_results)*100\n",
    "    print('Fold={0},Accuracy={1}'.format(fold,acc_score) )\n",
    "    \n",
    "    fold+=1\n",
    "\n",
    "\n"
   ]
  },
  {
   "cell_type": "code",
   "execution_count": 29,
   "metadata": {},
   "outputs": [
    {
     "name": "stdout",
     "output_type": "stream",
     "text": [
      "75.70093457943925\n"
     ]
    }
   ],
   "source": [
    "# predict on the test set\n",
    "# ---------------------------------------------------\n",
    "pred_y = logit_result.predict(test_x)\n",
    "y_results = list(pred_y)\n",
    "pred_y\n",
    "length = len(y_results)\n",
    "length\n",
    "# set the default cut-off to 0.5\n",
    "# and set predictions to 0 and 1\n",
    "for i in range(0,length):\n",
    "    if y_results[i] <= 0.5:\n",
    "        y_results[i] = 0\n",
    "    else:\n",
    "        y_results[i] = 1\n",
    "        \n",
    "# accuracy score\n",
    "print(accuracy_score(test_y,y_results)*100)"
   ]
  },
  {
   "cell_type": "code",
   "execution_count": 30,
   "metadata": {},
   "outputs": [
    {
     "name": "stdout",
     "output_type": "stream",
     "text": [
      "Predicted  False  True  __all__\n",
      "Actual                         \n",
      "False        105    40      145\n",
      "True          12    57       69\n",
      "__all__      117    97      214\n",
      "population: 214\n",
      "P: 69\n",
      "N: 145\n",
      "PositiveTest: 97\n",
      "NegativeTest: 117\n",
      "TP: 57\n",
      "TN: 105\n",
      "FP: 40\n",
      "FN: 12\n",
      "TPR: 0.8260869565217391\n",
      "TNR: 0.7241379310344828\n",
      "PPV: 0.5876288659793815\n",
      "NPV: 0.8974358974358975\n",
      "FPR: 0.27586206896551724\n",
      "FDR: 0.41237113402061853\n",
      "FNR: 0.17391304347826086\n",
      "ACC: 0.7570093457943925\n",
      "F1_score: 0.6867469879518072\n",
      "MCC: 0.5166185293886169\n",
      "informedness: 0.5502248875562219\n",
      "markedness: 0.48506476341527893\n",
      "prevalence: 0.32242990654205606\n",
      "LRP: 2.994565217391304\n",
      "LRN: 0.2401656314699793\n",
      "DOR: 12.46875\n",
      "FOR: 0.10256410256410256\n"
     ]
    }
   ],
   "source": [
    "# confusion matrix\n",
    "cm=ConfusionMatrix(list(y_results),list(test_y))\n",
    "print(cm)\n",
    "cm.print_stats()"
   ]
  },
  {
   "cell_type": "code",
   "execution_count": 31,
   "metadata": {},
   "outputs": [
    {
     "name": "stdout",
     "output_type": "stream",
     "text": [
      "              precision    recall  f1-score   support\n",
      "\n",
      "           0       0.72      0.90      0.80       117\n",
      "           1       0.83      0.59      0.69        97\n",
      "\n",
      "   micro avg       0.76      0.76      0.76       214\n",
      "   macro avg       0.78      0.74      0.74       214\n",
      "weighted avg       0.77      0.76      0.75       214\n",
      "\n"
     ]
    }
   ],
   "source": [
    "# Classification report : precision, recall, F-score\n",
    "print(cr(test_y, y_results))\n"
   ]
  },
  {
   "cell_type": "code",
   "execution_count": 32,
   "metadata": {},
   "outputs": [
    {
     "name": "stdout",
     "output_type": "stream",
     "text": [
      "0.7425323817076396\n"
     ]
    },
    {
     "data": {
      "image/png": "[encoded data removed]",
      "text/plain": [
       "<Figure size 432x288 with 1 Axes>"
      ]
     },
     "metadata": {
      "needs_background": "light"
     },
     "output_type": "display_data"
    }
   ],
   "source": [
    "# draw the ROC curve\n",
    "from sklearn import metrics\n",
    "import matplotlib.pyplot as plt\n",
    "\n",
    "fpr, tpr, threshold = metrics.roc_curve(test_y, y_results)\n",
    "roc_auc = metrics.auc(fpr,tpr)\n",
    "print(roc_auc)\n",
    "\n",
    "plt.title('Receiver Operating Characteristic')\n",
    "plt.plot(fpr, tpr, 'b', label = 'AUC = %0.2f' % roc_auc)\n",
    "plt.legend(loc = 'lower right')\n",
    "plt.plot([0, 1], [0, 1],'r--')\n",
    "plt.xlim([0, 1])\n",
    "plt.ylim([0, 1])\n",
    "plt.ylabel('True Positive Rate')\n",
    "plt.xlabel('False Positive Rate')\n",
    "plt.show()"
   ]
  },
  {
   "cell_type": "code",
   "execution_count": 33,
   "metadata": {},
   "outputs": [
    {
     "name": "stdout",
     "output_type": "stream",
     "text": [
      "DecisionTreeClassifier(class_weight=None, criterion='gini', max_depth=3,\n",
      "            max_features=None, max_leaf_nodes=None,\n",
      "            min_impurity_decrease=0.0, min_impurity_split=None,\n",
      "            min_samples_leaf=5, min_samples_split=2,\n",
      "            min_weight_fraction_leaf=0.0, presort=False, random_state=100,\n",
      "            splitter='best')\n"
     ]
    }
   ],
   "source": [
    "######## Same data with Decision Tree ############\n",
    "\n",
    "\n",
    "# gini model\n",
    "# entropy model\n",
    "# -------------------------------------\n",
    "\n",
    "# Model 1) DT with gini index criteria\n",
    "# -------------------------------------\n",
    "clf_gini = dtc(criterion = \"gini\", random_state = 100, \n",
    "               max_depth=3, min_samples_leaf=5)\n",
    "\n",
    "fit1 = clf_gini.fit(train_x, train_y)\n",
    "print(fit1)\n"
   ]
  },
  {
   "cell_type": "code",
   "execution_count": 34,
   "metadata": {},
   "outputs": [
    {
     "data": {
      "image/png": "[encoded data removed]",
      "text/plain": [
       "<IPython.core.display.Image object>"
      ]
     },
     "execution_count": 34,
     "metadata": {},
     "output_type": "execute_result"
    }
   ],
   "source": [
    "# to view the graph\n",
    "from sklearn import tree\n",
    "# tree visualisation\n",
    "# -------------------------------------\n",
    "dot_data = StringIO()\n",
    "\n",
    "tree.export_graphviz(fit1, out_file=dot_data,  \n",
    "                filled=True, rounded=True, special_characters=True)\n",
    "import pydotplus\n",
    "\n",
    "graph=pydotplus.graph_from_dot_data(dot_data.getvalue())\n",
    "from IPython.display import Image\n",
    "\n",
    "Image(graph.create_png())\n"
   ]
  },
  {
   "cell_type": "code",
   "execution_count": 35,
   "metadata": {},
   "outputs": [
    {
     "name": "stdout",
     "output_type": "stream",
     "text": [
      "Gini Accuracy is  78.97196261682244\n"
     ]
    }
   ],
   "source": [
    "# predictions\n",
    "# -------------------------------------\n",
    "pred_gini = fit1.predict(test_x)\n",
    "len(test_x)\n",
    "pred_gini\n",
    "len(test_y)\n",
    "len(pred_gini)\n",
    "print(\"Gini Accuracy is \", \n",
    "      accuracy_score(test_y,pred_gini)*100)\n"
   ]
  },
  {
   "cell_type": "code",
   "execution_count": 36,
   "metadata": {},
   "outputs": [
    {
     "data": {
      "text/plain": [
       "214"
      ]
     },
     "execution_count": 36,
     "metadata": {},
     "output_type": "execute_result"
    }
   ],
   "source": [
    "# create dataframe with the actual and predicted results\n",
    "# -------------------------------------------------------\n",
    "df_results1 = pd.DataFrame({'actual':test_y, \n",
    "                            'predicted':pred_gini})\n",
    "df_results1\n",
    "len(df_results1)\n"
   ]
  },
  {
   "cell_type": "code",
   "execution_count": 37,
   "metadata": {},
   "outputs": [
    {
     "data": {
      "text/plain": [
       "Predicted  False  True  __all__\n",
       "Actual                         \n",
       "False        107    10      117\n",
       "True          35    62       97\n",
       "__all__      142    72      214"
      ]
     },
     "execution_count": 37,
     "metadata": {},
     "output_type": "execute_result"
    }
   ],
   "source": [
    "# another nice way to plot the results\n",
    "# -------------------------------------\n",
    "cm1=ConfusionMatrix(list(test_y), list(pred_gini))\n",
    "cm1"
   ]
  },
  {
   "cell_type": "code",
   "execution_count": 38,
   "metadata": {},
   "outputs": [
    {
     "name": "stdout",
     "output_type": "stream",
     "text": [
      "population: 214\n",
      "P: 97\n",
      "N: 117\n",
      "PositiveTest: 72\n",
      "NegativeTest: 142\n",
      "TP: 62\n",
      "TN: 107\n",
      "FP: 10\n",
      "FN: 35\n",
      "TPR: 0.6391752577319587\n",
      "TNR: 0.9145299145299145\n",
      "PPV: 0.8611111111111112\n",
      "NPV: 0.7535211267605634\n",
      "FPR: 0.08547008547008547\n",
      "FDR: 0.1388888888888889\n",
      "FNR: 0.36082474226804123\n",
      "ACC: 0.7897196261682243\n",
      "F1_score: 0.7337278106508875\n",
      "MCC: 0.5833738502439377\n",
      "informedness: 0.5537051722618731\n",
      "markedness: 0.6146322378716746\n",
      "prevalence: 0.4532710280373832\n",
      "LRP: 7.478350515463917\n",
      "LRN: 0.3945466807977647\n",
      "DOR: 18.95428571428571\n",
      "FOR: 0.24647887323943662\n"
     ]
    },
    {
     "data": {
      "image/png": "[encoded data removed]",
      "text/plain": [
       "<Figure size 648x576 with 2 Axes>"
      ]
     },
     "metadata": {
      "needs_background": "light"
     },
     "output_type": "display_data"
    }
   ],
   "source": [
    "# plot\n",
    "# -------------------------------------\n",
    "cm1\n",
    "cm1.plot()\n",
    "cm1.print_stats()\n"
   ]
  },
  {
   "cell_type": "code",
   "execution_count": 39,
   "metadata": {},
   "outputs": [
    {
     "name": "stdout",
     "output_type": "stream",
     "text": [
      "DecisionTreeClassifier(class_weight=None, criterion='entropy', max_depth=3,\n",
      "            max_features=None, max_leaf_nodes=None,\n",
      "            min_impurity_decrease=0.0, min_impurity_split=None,\n",
      "            min_samples_leaf=5, min_samples_split=2,\n",
      "            min_weight_fraction_leaf=0.0, presort=False, random_state=100,\n",
      "            splitter='best')\n",
      "Entropy Accuracy is  78.50467289719626\n"
     ]
    }
   ],
   "source": [
    "#Model 2) DT with Entropy(Information Gain) criteria\n",
    "# ----------------------------------------------------\n",
    "clf_entropy=dtc(criterion=\"entropy\", \n",
    "                random_state=100, max_depth=3, \n",
    "                min_samples_leaf=5)\n",
    "\n",
    "fit2 = clf_entropy.fit(train_x,train_y)\n",
    "print(fit2)\n",
    "\n",
    "pred_entropy = fit2.predict(test_x)\n",
    "\n",
    "pred_entropy\n",
    "len(test_y)\n",
    "len(pred_entropy)\n",
    "print(\"Entropy Accuracy is \", \n",
    "      accuracy_score(test_y,pred_entropy)*100)\n"
   ]
  },
  {
   "cell_type": "code",
   "execution_count": 40,
   "metadata": {},
   "outputs": [
    {
     "data": {
      "text/plain": [
       "Predicted  False  True  __all__\n",
       "Actual                         \n",
       "False        105    12      117\n",
       "True          34    63       97\n",
       "__all__      139    75      214"
      ]
     },
     "execution_count": 40,
     "metadata": {},
     "output_type": "execute_result"
    }
   ],
   "source": [
    "df_results2 = pd.DataFrame({'actual':test_y, \n",
    "                            'predicted':pred_entropy})\n",
    "df_results2\n",
    "\n",
    "# another nice way to plot the results\n",
    "# -------------------------------------\n",
    "cm2=ConfusionMatrix(list(test_y), list(pred_entropy))\n",
    "cm2"
   ]
  },
  {
   "cell_type": "code",
   "execution_count": 41,
   "metadata": {},
   "outputs": [
    {
     "name": "stdout",
     "output_type": "stream",
     "text": [
      "population: 214\n",
      "P: 97\n",
      "N: 117\n",
      "PositiveTest: 75\n",
      "NegativeTest: 139\n",
      "TP: 63\n",
      "TN: 105\n",
      "FP: 12\n",
      "FN: 34\n",
      "TPR: 0.6494845360824743\n",
      "TNR: 0.8974358974358975\n",
      "PPV: 0.84\n",
      "NPV: 0.7553956834532374\n",
      "FPR: 0.10256410256410256\n",
      "FDR: 0.16\n",
      "FNR: 0.35051546391752575\n",
      "ACC: 0.7850467289719626\n",
      "F1_score: 0.7325581395348837\n",
      "MCC: 0.5706435536385317\n",
      "informedness: 0.5469204335183717\n",
      "markedness: 0.5953956834532375\n",
      "prevalence: 0.4532710280373832\n",
      "LRP: 6.332474226804124\n",
      "LRN: 0.39057437407952866\n",
      "DOR: 16.213235294117652\n",
      "FOR: 0.2446043165467626\n"
     ]
    },
    {
     "data": {
      "image/png": "[encoded data removed]",
      "text/plain": [
       "<Figure size 648x576 with 2 Axes>"
      ]
     },
     "metadata": {
      "needs_background": "light"
     },
     "output_type": "display_data"
    }
   ],
   "source": [
    "# plot\n",
    "# -------------------------------------\n",
    "cm2.plot()\n",
    "cm2.print_stats()\n"
   ]
  },
  {
   "cell_type": "code",
   "execution_count": null,
   "metadata": {},
   "outputs": [],
   "source": []
  }
 ],
 "metadata": {
  "kernelspec": {
   "display_name": "Python 3",
   "language": "python",
   "name": "python3"
  },
  "language_info": {
   "codemirror_mode": {
    "name": "ipython",
    "version": 3
   },
   "file_extension": ".py",
   "mimetype": "text/x-python",
   "name": "python",
   "nbconvert_exporter": "python",
   "pygments_lexer": "ipython3",
   "version": "3.7.1"
  }
 },
 "nbformat": 4,
 "nbformat_minor": 2
}
